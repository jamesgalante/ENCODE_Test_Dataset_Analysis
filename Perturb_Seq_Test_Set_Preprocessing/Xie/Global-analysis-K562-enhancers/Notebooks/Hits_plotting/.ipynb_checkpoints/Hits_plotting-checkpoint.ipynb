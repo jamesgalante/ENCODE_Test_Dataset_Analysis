{
 "cells": [
  {
   "cell_type": "code",
   "execution_count": 1,
   "metadata": {},
   "outputs": [],
   "source": [
    "#!/usr/bin/env python3\n",
    "import os\n",
    "import re\n",
    "import sys\n",
    "import collections\n",
    "import argparse\n",
    "#import tables\n",
    "import itertools\n",
    "import matplotlib\n",
    "import glob\n",
    "import math\n",
    "%matplotlib inline\n",
    "\n",
    "import matplotlib.pyplot as plt\n",
    "import matplotlib.gridspec as gridspec\n",
    "import numpy as np\n",
    "import pandas as pd\n",
    "import scipy.stats as stats\n",
    "import scipy.sparse as sp_sparse\n",
    "\n",
    "from collections import defaultdict\n",
    "from scipy import sparse, io\n",
    "from scipy.sparse import csr_matrix\n",
    "from multiprocessing import Pool\n",
    "#from matplotlib_venn import venn2, venn2_circles\n",
    "matplotlib.rcParams['pdf.fonttype'] = 42\n",
    "matplotlib.rcParams['ps.fonttype'] = 42"
   ]
  },
  {
   "cell_type": "markdown",
   "metadata": {},
   "source": [
    "[Loading Parameters](#Loading_parameters)  \n",
    "\n",
    "[Loading Data](#Loading_data)\n",
    "\n",
    "[Plot Local Hits](#local_gene_plot)\n",
    "\n",
    "[Plot Global Hits](#global_gene_plot)"
   ]
  },
  {
   "cell_type": "markdown",
   "metadata": {},
   "source": [
    "<a id='Loading_parameters'></a>"
   ]
  },
  {
   "cell_type": "markdown",
   "metadata": {},
   "source": [
    "### Loading Parameters"
   ]
  },
  {
   "cell_type": "code",
   "execution_count": 45,
   "metadata": {},
   "outputs": [],
   "source": [
    "#region = 'chr6-135306757-135307157'#myb enhancer 1\n",
    "#region = 'chr6-135321297-135321697'#myb enhancer 2\n",
    "#region = 'chr6-135323137-135323537' #myb enhancer 3\n",
    "#region = 'chr6-135325637-135326037'#myb enhancer 4\n",
    "#region = 'chr11-33881869-33882269'\n",
    "#region = 'chr7-150960307-150960707'\n",
    "#region = 'chr11-33941648-33942048'\n",
    "#region = 'chr11-33944788-33945188'\n",
    "#region = 'chr11-65422144-65422544'\n",
    "#region = 'chr17-42311517-42311917'\n",
    "#region = 'chr17-42312777-42313177'\n",
    "#region = 'chr17-42315617-42316017'\n",
    "#region = 'chr17-42319937-42320337'\n",
    "#region = 'chr11-5280670-5280820'\n",
    "#region = 'chr11-61834748-61834898'\n",
    "#region = 'chr5-54313325-54313725' #linc promoter\n",
    "region = 'chr5-54325645-54326045' #arl15 enhancer\n",
    "#region = 'chr18-2894277-2894677'\n",
    "#region = 'chr18-322535-322935'\n",
    "#region = 'chrX-66015153-66015553'\n",
    "#region = 'chr20-47607171-47607571'\n",
    "#region = 'chr6-135321297-135321697'\n",
    "#region = 'chr6-135306757-135307157'\n",
    "#region = 'chr10-17425896-17426296'\n",
    "#region = 'chr6-146876419-146876819'\n",
    "#region = 'chr18-48850844-48851244'\n",
    "#region = 'chr1-12005538-12005938'\n",
    "#region = 'chr11-33881869-33882269' #LMO2-enh-1\n",
    "#region = 'chr11-33941648-33942048' #LMO2-enh-2\n",
    "#region = 'chr11-33944788-33945188' #LMO2-enh-3\n",
    "#region = 'chr12-54304291-54304691'\n",
    "#region = 'chr12-54307031-54307431'\n",
    "#region = 'chr11-5280670-5280820'\n",
    "#region = 'chr8-128044869-128045269'\n",
    "#region = 'chr1-11671358-11671758'\n",
    "#region = 'chr1-26286984-26287384'\n",
    "#region = 'chr1-173867957-173868357'\n",
    "#region = 'chr7-149719004-149719404'\n",
    "#region = 'chr7-150320886-150321286'\n",
    "#region = 'chr10-17425896-17426296'\n",
    "#region = 'chr10-61781997-61782397'\n",
    "#region = 'chr16-88979007-88979407'\n",
    "#region = 'chr16-88992367-88992767'\n",
    "#region = 'chr10-17425896-17426296'\n",
    "#region = 'chr1-26276184-26276584'\n",
    "#region = 'chr1-26284724-26285124'\n",
    "#region = 'chr1-26286984-26287384'\n",
    "#region = 'chr1-167627738-167628138'"
   ]
  },
  {
   "cell_type": "code",
   "execution_count": 46,
   "metadata": {},
   "outputs": [],
   "source": [
    "#create cumsum list of the chromsomal position\n",
    "length_list = [0, 248956422,491149951,689445510,879660065,1061198324,\n",
    "               1232004303,1391350276,1536488912,1674883629,1808681051,\n",
    "               1943767673,2077042982,2191407310,2298451028,2400442217,\n",
    "               2490780562,2574038003,2654411288,2713028904,2777473071,\n",
    "               2824183054,2875001522,3031029399]\n",
    "    \n",
    "chr_order = ['chr1', 'chr2', 'chr3', 'chr4', 'chr5', 'chr6', 'chr7', 'chr8', \n",
    "             'chr9', 'chr10', 'chr11', 'chr12', 'chr13', 'chr14', 'chr15',\n",
    "             'chr16', 'chr17', 'chr18', 'chr19', 'chr20', 'chr21', 'chr22', 'chrX']\n",
    "    \n",
    "\n",
    "'''\n",
    "Note: \n",
    "In the original output files of 10X genomics cellranger pipeline, the genes in the gene expression\n",
    "matrix are not ordered by their position on chromosomes. Therefore, for the convinence of plotting, \n",
    "we mannualy genereate a plot_annotation file, in which the 'idx' column represents the position of \n",
    "the gene in the original 10X matrix.\n",
    "\n",
    "In the annotation file, the genes are now re-ordered based on their\n",
    "relative positions on the genome\n",
    "'''\n",
    "annot_df = pd.read_csv('../Data/Annotations/plot_annotation.txt',\n",
    "                       header = None, \n",
    "                       sep='\\t',\n",
    "                       names = [\"idx\", \"gene_names\", \"chromosome\", \"pos\", \"strand\", \"color_idx\", \"chr_idx\"])"
   ]
  },
  {
   "cell_type": "markdown",
   "metadata": {},
   "source": [
    "<a id='Loading_data'></a>"
   ]
  },
  {
   "cell_type": "markdown",
   "metadata": {},
   "source": [
    "### Loading data"
   ]
  },
  {
   "cell_type": "code",
   "execution_count": 47,
   "metadata": {},
   "outputs": [],
   "source": [
    "#read the pval and FC matrices\n",
    "mat_dir = '../Data/Hypergeometric_pvals/'\n",
    "up_pval_file   = mat_dir + region + '-up_log-pval.mat'\n",
    "down_pval_file = mat_dir + region + '-down_log-pval.mat'\n",
    "\n",
    "fc_files = glob.glob(mat_dir + region + '*-foldchange.mat')\n",
    "\n",
    "if len(fc_files) == 1:\n",
    "    fc_file = fc_files[0]\n",
    "else:\n",
    "    numbers = np.array([int(i.split('/')[-1].split('-')[3]) for i in fc_files])\n",
    "    chosen_num = np.max(numbers)\n",
    "    fc_file = mat_dir + region + '-' + str(chosen_num) + '-foldchange.mat'\n",
    "    \n",
    "pval_list_up = io.loadmat(up_pval_file)['matrix'][0]\n",
    "pval_list_down = io.loadmat(down_pval_file)['matrix'][0]\n",
    "fc = io.loadmat(fc_file)['matrix'][0]"
   ]
  },
  {
   "cell_type": "code",
   "execution_count": 48,
   "metadata": {},
   "outputs": [],
   "source": [
    "num_sgrna_cell = int(fc_file.split('/')[-1].split('-')[3])\n",
    "enh_chrom, left, right = re.split(r'[:-]+', region)"
   ]
  },
  {
   "cell_type": "code",
   "execution_count": 49,
   "metadata": {},
   "outputs": [],
   "source": [
    "percent_dir = '../Data/Gene_cutoff/'\n",
    "#read the gene index to be plotted, we ignored genes that are not expressed in at least 5% of the cells.\n",
    "plot_geneidx_file = '../Data/Annotations/' + 'plotted_genes.csv'\n",
    "plot_geneidx_df = pd.read_csv(plot_geneidx_file,\n",
    "                              sep='\\t',\n",
    "                              names = ['idx'],\n",
    "                              header = 0,\n",
    "                              index_col = 0)\n",
    "\n",
    "plot_df = annot_df.loc[annot_df['idx'].isin(plot_geneidx_df.idx)]\n",
    "\n",
    "#load the precalculated background p-values for every gene\n",
    "up_percent_file = percent_dir + 'Perct_99.9_combined_cutoff.up_genes.mat'\n",
    "unordered_up_percent_list = np.asarray(io.loadmat(up_percent_file)['matrix']).squeeze()\n",
    "\n",
    "down_percent_file = percent_dir + 'Perct_99.9_combined_cutoff.down_genes.mat'\n",
    "unordered_down_percent_list = np.asarray(io.loadmat(down_percent_file)['matrix']).squeeze()"
   ]
  },
  {
   "cell_type": "code",
   "execution_count": 50,
   "metadata": {},
   "outputs": [],
   "source": [
    "#Manhatthan Plot for up- and down-regulated genes separately\n",
    "up_idx        = np.where(np.array(fc) > 1)[0]\n",
    "down_idx      = np.where(np.array(fc) < 1)[0]\n",
    "plot_down_idx = np.intersect1d(down_idx, annot_df.idx)\n",
    "plot_up_idx   = np.intersect1d(up_idx, annot_df.idx)\n",
    "\n",
    "#preprocess the pvals for plotting\n",
    "pval_list_up[np.isinf(pval_list_up)] = 0\n",
    "pval_list_up = -pval_list_up\n",
    "\n",
    "pval_list_down[np.isinf(pval_list_down)] = 0\n",
    "pval_list_down = -pval_list_down\n",
    "\n",
    "#calculate the p_value for plotting\n",
    "plot_y_val = [0] * (len(fc))\n",
    "\n",
    "for i in up_idx:\n",
    "    if (pval_list_up[i] - unordered_up_percent_list[i] > 0):\n",
    "        plot_y_val[i] = pval_list_up[i] - unordered_up_percent_list[i]\n",
    "    else:\n",
    "        plot_y_val[i] = 0\n",
    "for i in down_idx:\n",
    "    if (pval_list_down[i] - unordered_down_percent_list[i] > 0):\n",
    "        plot_y_val[i] = -(pval_list_down[i] - unordered_down_percent_list[i])\n",
    "    else:\n",
    "        plot_y_val[i] = 0\n",
    "        \n",
    "plot_y_val=np.array(plot_y_val) / np.log(10) #convert the p-values to 10-based log.\n",
    "plot_x_val=np.array(annot_df.pos)\n",
    "\n",
    "odd_idx = annot_df.index[annot_df.color_idx == 0]\n",
    "even_idx= annot_df.index[annot_df.color_idx == 1]"
   ]
  },
  {
   "cell_type": "code",
   "execution_count": 51,
   "metadata": {},
   "outputs": [],
   "source": [
    "gene_idx = annot_df.loc[annot_df.gene_names == 'KCNH2'].idx.values[0]"
   ]
  },
  {
   "cell_type": "code",
   "execution_count": 52,
   "metadata": {},
   "outputs": [
    {
     "data": {
      "text/plain": [
       "-3.713190664287197"
      ]
     },
     "execution_count": 52,
     "metadata": {},
     "output_type": "execute_result"
    }
   ],
   "source": [
    "(pval_list_down[gene_idx] - unordered_down_percent_list[gene_idx]) / np.log(10)"
   ]
  },
  {
   "cell_type": "markdown",
   "metadata": {},
   "source": [
    "<a id='local_gene_plot'></a>"
   ]
  },
  {
   "cell_type": "markdown",
   "metadata": {},
   "source": [
    "### Plot the local hits\n",
    "\n",
    "Note that the cutoff value for local DEGs are SS > 0."
   ]
  },
  {
   "cell_type": "code",
   "execution_count": 8,
   "metadata": {},
   "outputs": [],
   "source": [
    "def get_neighbor_genes(region, query_range, annot_df):\n",
    "\n",
    "    enh_chrom, left, right = re.split('[:|-]', region)\n",
    "    position = int(left) + length_list[chr_order.index(enh_chrom)]\n",
    "    gene_idx = annot_df.loc[(annot_df.pos < position + query_range) \\\n",
    "                            & (annot_df.pos > position - query_range)\\\n",
    "                            & (annot_df.chromosome == enh_chrom)].index.values\n",
    "    return(gene_idx)"
   ]
  },
  {
   "cell_type": "code",
   "execution_count": 9,
   "metadata": {},
   "outputs": [],
   "source": [
    "# First we got all the genes within a certain range of targeted regions\n",
    "query_range = 2e6\n",
    "local_gene_idx = get_neighbor_genes(region, query_range, annot_df)"
   ]
  },
  {
   "cell_type": "code",
   "execution_count": 11,
   "metadata": {},
   "outputs": [
    {
     "data": {
      "image/png": "[encoded data removed]",
      "text/plain": [
       "<Figure size 576x432 with 1 Axes>"
      ]
     },
     "metadata": {
      "needs_background": "light"
     },
     "output_type": "display_data"
    }
   ],
   "source": [
    "fig, ax = plt.subplots(figsize=(8,6))\n",
    "\n",
    "ax.scatter(annot_df.loc[annot_df.idx.isin(local_gene_idx)].sort_values(by='idx').pos.values,\n",
    "           plot_y_val[local_gene_idx] * -1,\n",
    "           s=4,\n",
    "           color='#4d4d4d',\n",
    "           marker='v')\n",
    "\n",
    "ax.axvline(int(left)+length_list[chr_order.index(enh_chrom)],\n",
    "           color = '#7A68A6',\n",
    "           linestyle='-.',\n",
    "           alpha = 0.8)\n",
    "\n",
    "ax.yaxis.grid(linestyle='--')\n",
    "ax.set_facecolor('#F9F9F9')\n",
    "\n",
    "hits_idx = np.intersect1d(np.squeeze(np.argwhere(plot_y_val < 0)), local_gene_idx)\n",
    "\n",
    "#plot hits\n",
    "\n",
    "[ymin, ymax] = ax.get_ylim()\n",
    "[xmin, xmax] = ax.get_xlim()\n",
    "\n",
    "for i in hits_idx:\n",
    "    ax.plot(\n",
    "        annot_df.loc[annot_df.idx == i].pos.values[0],\n",
    "        plot_y_val[i] * -1,\n",
    "        '.',\n",
    "        markersize=20,\n",
    "        markerfacecolor='#348ABD',\n",
    "        markeredgecolor='w'\n",
    "    )\n",
    "    ax.text(\n",
    "        annot_df.loc[annot_df.idx == i].pos.values[0] + (xmax-xmin)*0.05,\n",
    "        plot_y_val[i] * -1,\n",
    "        '%s'%(annot_df.loc[annot_df.idx == i].gene_names.values[0]),\n",
    "        color = '#348ABD',\n",
    "        fontsize=15\n",
    "    )\n",
    "\n",
    "ax.set_ylabel('Significance Score', fontsize=20)\n",
    "ax.set_ylim([-1, 70])\n",
    "locs = ax.xaxis.get_ticklocs()\n",
    "locs = np.array([int(i) for i in locs])\n",
    "ax.set_xticklabels(locs - length_list[chr_order.index(enh_chrom)], rotation = 45)\n",
    "\n",
    "plt.show()\n",
    "fig.savefig(region + '_local_hits.pdf')"
   ]
  },
  {
   "cell_type": "markdown",
   "metadata": {},
   "source": [
    "<a id = 'global_gene_plot'></a>"
   ]
  },
  {
   "cell_type": "markdown",
   "metadata": {},
   "source": [
    "### Now we plot all the genes that are changed\n",
    "\n",
    "Note that here we use SS > 2.8 for the up-reguated genes and SS > 1.9 for the down-regulated ones. "
   ]
  },
  {
   "cell_type": "code",
   "execution_count": 12,
   "metadata": {
    "collapsed": false,
    "inputHidden": false,
    "outputHidden": false
   },
   "outputs": [],
   "source": [
    "up_cutoff = 2.8\n",
    "down_cutoff = 1.9"
   ]
  },
  {
   "cell_type": "code",
   "execution_count": 13,
   "metadata": {},
   "outputs": [],
   "source": [
    "def outlier_plot(ax, fc_list, plot_x_val, plot_y_val, outlier_idx, plot_idx, color):\n",
    "    outlier_fc = np.array([])\n",
    "    outlier_y_val = np.array([])\n",
    "    outlier_x_val = np.array([])\n",
    "        \n",
    "    idx = np.intersect1d(plot_idx, outlier_idx)\n",
    "    for j in idx:\n",
    "        if fc_list[j] > 1:\n",
    "            outlier_fc = np.append(outlier_fc, get_fc_range(fc_list[j]))\n",
    "        else:\n",
    "            outlier_fc = np.append(outlier_fc, get_fc_range(1/fc_list[j]))\n",
    "            \n",
    "        outlier_x_val = np.append(outlier_x_val, plot_x_val[j])\n",
    "        outlier_y_val = np.append(outlier_y_val, plot_y_val[j])\n",
    "        \n",
    "    ax.scatter(outlier_x_val, outlier_y_val,\n",
    "               color=color,\n",
    "               s=outlier_fc,\n",
    "               marker='o',\n",
    "               edgecolor='w')\n",
    "\n",
    "def get_fc_range(val):\n",
    "    if (val >= 4):\n",
    "        fc_range = 200\n",
    "    elif (val >= 2):\n",
    "        fc_range = 100\n",
    "    else:\n",
    "        fc_range = 50\n",
    "    return fc_range"
   ]
  },
  {
   "cell_type": "code",
   "execution_count": 14,
   "metadata": {},
   "outputs": [
    {
     "data": {
      "text/plain": [
       "Text(3182580868.9500003, 23.5, 'Up Genes')"
      ]
     },
     "execution_count": 14,
     "metadata": {},
     "output_type": "execute_result"
    },
    {
     "data": {
      "image/png": "[encoded data removed]",
      "text/plain": [
       "<Figure size 720x432 with 2 Axes>"
      ]
     },
     "metadata": {
      "needs_background": "light"
     },
     "output_type": "display_data"
    }
   ],
   "source": [
    "#initiate the figure\n",
    "#plt.style.use('bmh')\n",
    "\n",
    "fig = plt.figure(figsize=(10,6))\n",
    "gs = gridspec.GridSpec(nrows=1, ncols=11)\n",
    "\n",
    "#plot all genes\n",
    "ax0 = fig.add_subplot(gs[:, 0:9])\n",
    "\n",
    "ax0.scatter(plot_x_val[odd_idx],\n",
    "           plot_y_val[odd_idx],\n",
    "           s=1,\n",
    "           color='#4d4d4d',\n",
    "           marker='.')\n",
    "\n",
    "ax0.scatter(plot_x_val[even_idx],\n",
    "           plot_y_val[even_idx],\n",
    "           s=1,\n",
    "           color='#e0e0e0',\n",
    "           marker='.')\n",
    "\n",
    "ax0.set_title('%s (%d cells)'%(region, num_sgrna_cell),\n",
    "             fontsize=18)\n",
    "\n",
    "ax0.set_ylabel('Significance Score',\n",
    "              fontsize = 15)\n",
    "\n",
    "#configurate the axis\n",
    "[ymin, ymax] = ax0.get_ylim()\n",
    "max_yval = max([np.absolute(ymin), np.absolute(ymax)])\n",
    "ax0.set_ylim([round(-max_yval-1),round(max_yval+1)])\n",
    "#ax0.set_ylim([-30, 30])\n",
    "ax0.set_xlim([-1e8, length_list[-1] + 1e8])\n",
    "[ymin, ymax] = ax0.get_ylim()\n",
    "ax0.tick_params(direction='in')\n",
    "[xmin, xmax] = ax0.get_xlim()\n",
    "\n",
    "\n",
    "#ax0.set_ylim([-30, 65])\n",
    "#use absolute value for the y-axis\n",
    "corrected_ylabels = np.array([])\n",
    "labels = [np.absolute(int(i)) for i in ax0.get_yticks()]\n",
    "\n",
    "ax0.set_yticklabels(labels)\n",
    "\n",
    "#change the x-axis labels to chromosome names\n",
    "xtick_pos = np.array([])\n",
    "for i,e in enumerate(length_list):\n",
    "    if i == 0:\n",
    "        continue\n",
    "    chrom_midpoint = (length_list[i-1] + e) / 2\n",
    "    xtick_pos = np.append(xtick_pos, chrom_midpoint)\n",
    "    \n",
    "print_ChrNames = np.array([])\n",
    "for i in chr_order:\n",
    "    print_ChrNames = np.append(print_ChrNames, i[:1].upper() + i[1:])\n",
    "    \n",
    "ax0.set_xticklabels(print_ChrNames, \n",
    "                    rotation='60',\n",
    "                    va='top',\n",
    "                    ha='center',\n",
    "                    style='oblique',\n",
    "                    family='monospace')\n",
    "\n",
    "for i,e in enumerate(length_list):\n",
    "    if i == 0:\n",
    "        continue\n",
    "    if i % 2 == 0:\n",
    "        ax0.fill_betweenx([ymin, ymax],\n",
    "                          [length_list[i-1], length_list[i-1]],\n",
    "                          [e, e],\n",
    "                          color='#e0e0e0',\n",
    "                          alpha=0.1)\n",
    "    if i % 2 == 1:\n",
    "        ax0.fill_betweenx([ymin, ymax],\n",
    "                          [length_list[i-1], length_list[i-1]],\n",
    "                          [e, e],\n",
    "                          color='#4d4d4d',\n",
    "                          alpha=0.1)\n",
    "#setup the grid\n",
    "#[s.set_visible(False) for s in ax0.spines.values()]\n",
    "ax0.yaxis.grid(linestyle = '--')\n",
    "ax0.set_xticks(xtick_pos)\n",
    "        \n",
    "#plot a vertical line at the position of enhancer\n",
    "ax0.axvline(int(left)+length_list[chr_order.index(enh_chrom)],\n",
    "           color = '#7A68A6',\n",
    "           ymin=ymin,\n",
    "           ymax=ymax,\n",
    "           linestyle='-.',\n",
    "           alpha = 0.8)\n",
    "\n",
    "#plot the outliers\n",
    "raw_outliers = []\n",
    "counter = 0\n",
    "for i,e in enumerate(plot_y_val):\n",
    "    if (e < (-1* down_cutoff) or e > up_cutoff):\n",
    "        raw_outliers.append(counter)\n",
    "    counter += 1\n",
    "\n",
    "outliers = np.intersect1d(raw_outliers, annot_df.idx)\n",
    "if np.any(outliers):\n",
    "    for j in outliers:\n",
    "        if (plot_y_val[j] > 8) or (plot_y_val[j] < -8):\n",
    "            gene_name = annot_df.loc[annot_df.idx == j].iloc[0].gene_names\n",
    "            gene_chr = annot_df.loc[annot_df.idx == j].iloc[0].chromosome\n",
    "            if plot_y_val[j] > 0:\n",
    "                ax0.text(plot_x_val[j] + (xmax*0.01), plot_y_val[j] + (ymax*0.01),\n",
    "                         '%s'%(gene_name),\n",
    "                         color = '#A60628',\n",
    "                         fontsize=15)\n",
    "            else:\n",
    "                ax0.text(plot_x_val[j] + (xmax*0.01), plot_y_val[j] + (ymax*0.01),\n",
    "                         '%s'%(gene_name),\n",
    "                         color='#348ABD',\n",
    "                         fontsize=15)\n",
    "          \n",
    "    outlier_plot(ax0, fc, plot_x_val, plot_y_val, outliers, plot_up_idx, '#A60628')\n",
    "    outlier_plot(ax0, fc, plot_x_val, plot_y_val, outliers, plot_down_idx, '#348ABD')\n",
    "\n",
    "#manually plot a gene\n",
    "'''ax0.scatter(plot_x_val[19997],\n",
    "            plot_y_val[19997],\n",
    "            s=20,\n",
    "            color='k',\n",
    "            edgecolor='w',\n",
    "            marker='o')'''\n",
    "\n",
    "#plot a legend for the circle size\n",
    "ax1 = fig.add_subplot(gs[:,10])\n",
    "\n",
    "y_len = ymax - ymin\n",
    "y_val = []\n",
    "for i in range(0,4):\n",
    "    y_val.append(ymax - y_len * ((i + 1) * 0.05))\n",
    "\n",
    "size = [150, 80, 30, 1]\n",
    "legend_text = ['>=4-fold', '>=2-fold',\n",
    "               '<2-fold', 'not significant']\n",
    "for i,size in enumerate(size):\n",
    "    ax1.scatter(0.5, y_val[i], \n",
    "                color = 'k',\n",
    "                s=size,\n",
    "                marker='o')\n",
    "    ax1.text(0.7, y_val[i],\n",
    "             '%s'%(legend_text[i]),\n",
    "             ha='left',\n",
    "             va='center',\n",
    "             fontsize = 12)\n",
    "\n",
    "ax1.axis('off')\n",
    "ax1.set_ylim([ymin, ymax])\n",
    "ax1.set_xlim([0.1,1])\n",
    "ax1.set_title(\"Mean CPM FC\",\n",
    "              ha='left',\n",
    "              va='bottom',\n",
    "              fontsize = 15)\n",
    "\n",
    "bbox_props=dict(boxstyle = 'round', fc='#348ABD', ec='0.5', alpha=0.85)\n",
    "ax0.text(max(plot_x_val)*1.05, ymin*0.5, \"Down Genes\",\n",
    "         ha='left',\n",
    "         va='center',\n",
    "         color='w',\n",
    "         fontsize=15,\n",
    "         rotation = 90,\n",
    "         bbox=bbox_props)\n",
    "\n",
    "bbox_props=dict(boxstyle = 'round', fc='#A60628', ec='0.5', alpha=0.85)\n",
    "ax0.text(max(plot_x_val)*1.05, ymax*0.5, \"Up Genes\",\n",
    "         ha='left',\n",
    "         va='center',\n",
    "         color='w',\n",
    "         fontsize=15,\n",
    "         rotation = 90,\n",
    "         bbox=bbox_props)\n",
    "\n",
    "#fig.savefig('%s.dual_manhattan.ver2.png'%(region), dpi=500)"
   ]
  },
  {
   "cell_type": "code",
   "execution_count": null,
   "metadata": {},
   "outputs": [],
   "source": []
  }
 ],
 "metadata": {
  "kernel_info": {
   "name": "python3"
  },
  "kernelspec": {
   "display_name": "Python 3",
   "language": "python",
   "name": "python3"
  },
  "language_info": {
   "codemirror_mode": {
    "name": "ipython",
    "version": 3
   },
   "file_extension": ".py",
   "mimetype": "text/x-python",
   "name": "python",
   "nbconvert_exporter": "python",
   "pygments_lexer": "ipython3",
   "version": "3.6.7"
  },
  "nteract": {
   "version": "0.14.0"
  }
 },
 "nbformat": 4,
 "nbformat_minor": 2
}
