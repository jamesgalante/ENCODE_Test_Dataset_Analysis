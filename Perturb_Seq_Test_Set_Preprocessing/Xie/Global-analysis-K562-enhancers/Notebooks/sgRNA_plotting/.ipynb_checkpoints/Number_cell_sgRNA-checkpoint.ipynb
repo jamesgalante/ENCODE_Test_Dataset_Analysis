{
 "cells": [
  {
   "cell_type": "code",
   "execution_count": 5,
   "metadata": {},
   "outputs": [],
   "source": [
    "import pandas as pd\n",
    "import numpy as np\n",
    "import matplotlib\n",
    "import glob\n",
    "\n",
    "from matplotlib import pyplot as plt\n",
    "\n",
    "%matplotlib inline\n",
    "matplotlib.rcParams['pdf.fonttype'] = 42"
   ]
  },
  {
   "cell_type": "code",
   "execution_count": 63,
   "metadata": {},
   "outputs": [
    {
     "name": "stdout",
     "output_type": "stream",
     "text": [
      "chr10-43455487-43455887:\t856\n",
      "chr11-33941648-33942048:\t903\n",
      "chr16-89004107-89004507:\t977\n",
      "chr18-12741296-12741696:\t942\n",
      "chr18-12772084-12772456:\t955\n",
      "chr18-22452112-22452512:\t976\n",
      "chr18-2854117-2854517:\t855\n",
      "chr18-3037377-3037777:\t962\n",
      "chr18-45998249-45998649:\t992\n",
      "chr18-48781204-48781604:\t888\n",
      "chr18-832114-832514:\t976\n",
      "chr18-9810978-9811378:\t958\n",
      "chr20-47360671-47361071:\t963\n",
      "chr6-135323137-135323537:\t750\n",
      "chr6-147196499-147196899:\t988\n",
      "chr6-36888999-36889399:\t954\n"
     ]
    }
   ],
   "source": [
    "mat_dir = '../Overlapped-hits/Data-new/'\n",
    "\n",
    "regions = pd.read_csv('../Overlapped-hits/enh_names.txt', sep='\\t', header=None)\n",
    "\n",
    "cell_num_array = np.array([])\n",
    "for region in regions[0].values:\n",
    "    fc_files = glob.glob(mat_dir + region + '*-foldchange.mat')\n",
    "\n",
    "    if len(fc_files) == 1:\n",
    "        fc_file = fc_files[0]\n",
    "        cell_num = fc_file.split('/')[-1].split('-')[3]\n",
    "    else:\n",
    "        numbers = np.array([int(i.split('/')[-1].split('-')[3]) for i in fc_files])\n",
    "        cell_num = np.max(numbers)\n",
    "    cell_num_array = np.append(cell_num_array, int(cell_num))\n",
    "    \n",
    "    if int(cell_num) < 1000:\n",
    "        print(region + \":\" + '\\t' + cell_num)"
   ]
  },
  {
   "cell_type": "code",
   "execution_count": 76,
   "metadata": {},
   "outputs": [
    {
     "data": {
      "image/png": "[encoded data removed]",
      "text/plain": [
       "<Figure size 576x432 with 1 Axes>"
      ]
     },
     "metadata": {
      "needs_background": "light"
     },
     "output_type": "display_data"
    }
   ],
   "source": [
    "fig, ax = plt.subplots(figsize=(8,6))\n",
    "\n",
    "ax.hist(cell_num_array, bins = 200, color='#348ABD')\n",
    "ax.axvline(np.median(cell_num_array), color='#A60628', linestyle='--')\n",
    "ax.set_xlim([0,2100])\n",
    "\n",
    "ax.yaxis.grid(color = '#d9d9d9', linestyle = '--')\n",
    "ax.set_facecolor('#E9E9E9')\n",
    "\n",
    "ax.set_ylabel('Counts', fontsize=15)\n",
    "ax.set_xlabel('Number of cells Detected for Each Region', fontsize=15)\n",
    "fig.savefig('Cells_per_region.pdf')"
   ]
  },
  {
   "cell_type": "code",
   "execution_count": 77,
   "metadata": {},
   "outputs": [
    {
     "data": {
      "text/plain": [
       "1276.0"
      ]
     },
     "execution_count": 77,
     "metadata": {},
     "output_type": "execute_result"
    }
   ],
   "source": [
    "np.median(cell_num_array)"
   ]
  }
 ],
 "metadata": {
  "kernelspec": {
   "display_name": "Python 3",
   "language": "python",
   "name": "python3"
  },
  "language_info": {
   "codemirror_mode": {
    "name": "ipython",
    "version": 3
   },
   "file_extension": ".py",
   "mimetype": "text/x-python",
   "name": "python",
   "nbconvert_exporter": "python",
   "pygments_lexer": "ipython3",
   "version": "3.6.6"
  }
 },
 "nbformat": 4,
 "nbformat_minor": 2
}
