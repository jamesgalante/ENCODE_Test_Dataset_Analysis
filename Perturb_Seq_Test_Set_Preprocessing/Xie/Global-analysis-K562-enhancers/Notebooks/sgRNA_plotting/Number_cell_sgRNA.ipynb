{
  "cells": [
    {
      "cell_type": "code",
      "source": [
        "import pandas as pd\n",
        "import numpy as np\n",
        "import matplotlib\n",
        "import glob\n",
        "\n",
        "from matplotlib import pyplot as plt\n",
        "\n",
        "%matplotlib inline\n",
        "matplotlib.rcParams['pdf.fonttype'] = 42"
      ],
      "outputs": [],
      "execution_count": 1,
      "metadata": {}
    },
    {
      "cell_type": "markdown",
      "source": [
        "### First we summarize the number of cells detected for each enhancer region"
      ],
      "metadata": {}
    },
    {
      "cell_type": "code",
      "source": [
        "#load the data\n",
        "mat_dir = '../Hits_plotting/Data-new/'\n",
        "\n",
        "regions = pd.read_csv('./enh_names.txt', sep='\\t', header=None)\n",
        "\n",
        "cell_num_array = np.array([])\n",
        "for region in regions[0].values:\n",
        "    #the number of cells is ouput in the file name of each fold change file\n",
        "    fc_files = glob.glob(mat_dir + region + '*-foldchange.mat')\n",
        "\n",
        "    if len(fc_files) == 1:\n",
        "        fc_file = fc_files[0]\n",
        "        cell_num = fc_file.split('/')[-1].split('-')[3]\n",
        "    else:\n",
        "        numbers = np.array([int(i.split('/')[-1].split('-')[3]) for i in fc_files])\n",
        "        cell_num = np.max(numbers)\n",
        "    cell_num_array = np.append(cell_num_array, int(cell_num))\n",
        "    \n",
        "    #print the regions with less than 1000 cells\n",
        "    if int(cell_num) < 1000:\n",
        "        print(region + \":\" + '\\t' + cell_num)"
      ],
      "outputs": [
        {
          "output_type": "stream",
          "name": "stdout",
          "text": [
            "chr10-43455487-43455887:\t856\n",
            "chr11-33941648-33942048:\t903\n",
            "chr16-89004107-89004507:\t977\n",
            "chr18-12741296-12741696:\t942\n",
            "chr18-12772084-12772456:\t955\n",
            "chr18-22452112-22452512:\t976\n",
            "chr18-2854117-2854517:\t855\n",
            "chr18-3037377-3037777:\t962\n",
            "chr18-45998249-45998649:\t992\n",
            "chr18-48781204-48781604:\t888\n",
            "chr18-832114-832514:\t976\n",
            "chr18-9810978-9811378:\t958\n",
            "chr20-47360671-47361071:\t963\n",
            "chr6-135323137-135323537:\t750\n",
            "chr6-147196499-147196899:\t988\n",
            "chr6-36888999-36889399:\t954\n"
          ]
        }
      ],
      "execution_count": 2,
      "metadata": {}
    },
    {
      "cell_type": "code",
      "source": [
        "fig, ax = plt.subplots(figsize=(8,6))\n",
        "\n",
        "ax.hist(cell_num_array, bins = 200, color='#348ABD')\n",
        "ax.axvline(np.median(cell_num_array), color='#A60628', linestyle='--')\n",
        "ax.set_xlim([0,2100])\n",
        "\n",
        "ax.yaxis.grid(color = '#d9d9d9', linestyle = '--')\n",
        "ax.set_facecolor('#E9E9E9')\n",
        "\n",
        "ax.set_ylabel('Counts', fontsize=15)\n",
        "ax.set_xlabel('Number of cells Detected for Each Region', fontsize=15)\n",
        "#fig.savefig('Cells_per_region.pdf')"
      ],
      "outputs": [
        {
          "output_type": "execute_result",
          "execution_count": 3,
          "data": {
            "text/plain": [
              "Text(0.5,0,'Number of cells Detected for Each Region')"
            ]
          },
          "metadata": {}
        },
        {
          "output_type": "display_data",
          "data": {
            "text/plain": [
              "<Figure size 576x432 with 1 Axes>"
            ],
            "image/png": "[encoded data removed]"
          },
          "metadata": {
            "needs_background": "light"
          }
        }
      ],
      "execution_count": 3,
      "metadata": {}
    },
    {
      "cell_type": "code",
      "source": [
        "#calculate the median of cells detected\n",
        "np.median(cell_num_array)"
      ],
      "outputs": [
        {
          "output_type": "execute_result",
          "execution_count": 77,
          "data": {
            "text/plain": [
              "1276.0"
            ]
          },
          "metadata": {}
        }
      ],
      "execution_count": 77,
      "metadata": {}
    },
    {
      "cell_type": "markdown",
      "source": [
        "### Next we"
      ],
      "metadata": {}
    }
  ],
  "metadata": {
    "kernelspec": {
      "name": "python3",
      "language": "python",
      "display_name": "Python 3"
    },
    "language_info": {
      "name": "python",
      "version": "3.7.0",
      "mimetype": "text/x-python",
      "codemirror_mode": {
        "name": "ipython",
        "version": 3
      },
      "pygments_lexer": "ipython3",
      "nbconvert_exporter": "python",
      "file_extension": ".py"
    },
    "kernel_info": {
      "name": "python3"
    },
    "nteract": {
      "version": "0.14.0"
    }
  },
  "nbformat": 4,
  "nbformat_minor": 2
}