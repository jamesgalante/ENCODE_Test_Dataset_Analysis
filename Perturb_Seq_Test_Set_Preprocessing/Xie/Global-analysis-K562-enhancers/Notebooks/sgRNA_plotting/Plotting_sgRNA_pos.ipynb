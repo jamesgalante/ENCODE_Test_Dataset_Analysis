{
  "cells": [
    {
      "cell_type": "code",
      "source": [
        "import pandas as pd\n",
        "import numpy as np\n",
        "import matplotlib\n",
        "import re\n",
        "\n",
        "from matplotlib import pyplot as plt\n",
        "\n",
        "%matplotlib inline\n",
        "matplotlib.rcParams['pdf.fonttype'] = 42"
      ],
      "outputs": [],
      "execution_count": 1,
      "metadata": {}
    },
    {
      "cell_type": "code",
      "source": [
        "df = pd.read_csv('sgRNA.final_list.sequence.bed', sep='\\t', header=None)"
      ],
      "outputs": [],
      "execution_count": 2,
      "metadata": {}
    },
    {
      "cell_type": "code",
      "source": [
        "df.head()"
      ],
      "outputs": [
        {
          "output_type": "execute_result",
          "execution_count": 4,
          "data": {
            "text/html": [
              "<div>\n",
              "<style scoped>\n",
              "    .dataframe tbody tr th:only-of-type {\n",
              "        vertical-align: middle;\n",
              "    }\n",
              "\n",
              "    .dataframe tbody tr th {\n",
              "        vertical-align: top;\n",
              "    }\n",
              "\n",
              "    .dataframe thead th {\n",
              "        text-align: right;\n",
              "    }\n",
              "</style>\n",
              "<table border=\"1\" class=\"dataframe\">\n",
              "  <thead>\n",
              "    <tr style=\"text-align: right;\">\n",
              "      <th></th>\n",
              "      <th>0</th>\n",
              "      <th>1</th>\n",
              "      <th>2</th>\n",
              "      <th>3</th>\n",
              "      <th>4</th>\n",
              "      <th>5</th>\n",
              "    </tr>\n",
              "  </thead>\n",
              "  <tbody>\n",
              "    <tr>\n",
              "      <th>0</th>\n",
              "      <td>chr1</td>\n",
              "      <td>11731445</td>\n",
              "      <td>11731464</td>\n",
              "      <td>GHSGRNALIB_1702:00001</td>\n",
              "      <td>TTCAGTTTGCCTTACTCGT</td>\n",
              "      <td>&gt;chr1:11731415-11731815|chr1:11731445-11731464|-</td>\n",
              "    </tr>\n",
              "    <tr>\n",
              "      <th>1</th>\n",
              "      <td>chr1</td>\n",
              "      <td>11731460</td>\n",
              "      <td>11731479</td>\n",
              "      <td>GHSGRNALIB_1702:00002</td>\n",
              "      <td>TGAACCTACCAGGCTTGCG</td>\n",
              "      <td>&gt;chr1:11731415-11731815|chr1:11731460-11731479|+</td>\n",
              "    </tr>\n",
              "    <tr>\n",
              "      <th>2</th>\n",
              "      <td>chr1</td>\n",
              "      <td>11731473</td>\n",
              "      <td>11731492</td>\n",
              "      <td>GHSGRNALIB_1702:00003</td>\n",
              "      <td>CTTGCGTGGAGGGGACAGA</td>\n",
              "      <td>&gt;chr1:11731415-11731815|chr1:11731473-11731492|+</td>\n",
              "    </tr>\n",
              "    <tr>\n",
              "      <th>3</th>\n",
              "      <td>chr1</td>\n",
              "      <td>11731540</td>\n",
              "      <td>11731559</td>\n",
              "      <td>GHSGRNALIB_1702:00004</td>\n",
              "      <td>GTCCTCTCTGCGAAGCTCG</td>\n",
              "      <td>&gt;chr1:11731415-11731815|chr1:11731540-11731559|+</td>\n",
              "    </tr>\n",
              "    <tr>\n",
              "      <th>4</th>\n",
              "      <td>chr1</td>\n",
              "      <td>11731541</td>\n",
              "      <td>11731560</td>\n",
              "      <td>GHSGRNALIB_1702:00005</td>\n",
              "      <td>TCCTCTCTGCGAAGCTCGA</td>\n",
              "      <td>&gt;chr1:11731415-11731815|chr1:11731541-11731560|+</td>\n",
              "    </tr>\n",
              "  </tbody>\n",
              "</table>\n",
              "</div>"
            ],
            "text/plain": [
              "      0         1         2                      3                    4  \\\n",
              "0  chr1  11731445  11731464  GHSGRNALIB_1702:00001  TTCAGTTTGCCTTACTCGT   \n",
              "1  chr1  11731460  11731479  GHSGRNALIB_1702:00002  TGAACCTACCAGGCTTGCG   \n",
              "2  chr1  11731473  11731492  GHSGRNALIB_1702:00003  CTTGCGTGGAGGGGACAGA   \n",
              "3  chr1  11731540  11731559  GHSGRNALIB_1702:00004  GTCCTCTCTGCGAAGCTCG   \n",
              "4  chr1  11731541  11731560  GHSGRNALIB_1702:00005  TCCTCTCTGCGAAGCTCGA   \n",
              "\n",
              "                                                  5  \n",
              "0  >chr1:11731415-11731815|chr1:11731445-11731464|-  \n",
              "1  >chr1:11731415-11731815|chr1:11731460-11731479|+  \n",
              "2  >chr1:11731415-11731815|chr1:11731473-11731492|+  \n",
              "3  >chr1:11731415-11731815|chr1:11731540-11731559|+  \n",
              "4  >chr1:11731415-11731815|chr1:11731541-11731560|+  "
            ]
          },
          "metadata": {}
        }
      ],
      "execution_count": 4,
      "metadata": {}
    },
    {
      "cell_type": "code",
      "source": [
        "n, f = df.shape\n",
        "enh_id = np.zeros(n)\n",
        "sgrna_coods = np.zeros([n, 2])\n",
        "all_regions = []\n",
        "\n",
        "current_enh_id = 0\n",
        "chr1, enh_pos, chr2, sgrna_pos, strand = re.split('[\\| | :]', df[5][0])\n",
        "current_enh = chr1 + \":\"  + enh_pos\n",
        "all_regions.append(current_enh[1:])\n",
        "\n",
        "for i, e in enumerate(df[5]):\n",
        "    chr1, enh_pos, chr2, sgrna_pos, strand = re.split('[\\| | :]', e)\n",
        "    \n",
        "    input_enh = chr1 + \":\"  + enh_pos\n",
        "    \n",
        "    if input_enh != current_enh:\n",
        "        current_enh_id +=1\n",
        "        current_enh = input_enh\n",
        "        all_regions.append(current_enh[1:])\n",
        "\n",
        "    enh_id[i] = int(current_enh_id)\n",
        "    enh_left, enh_right = enh_pos.split('-')\n",
        "    sgrna_left, sgrna_right = sgrna_pos.split('-')\n",
        "    \n",
        "    midpoint = (int(enh_left) + int(enh_right)) / 2\n",
        "    sgrna_coods[i] = [int(i) - midpoint for i in sgrna_pos.split('-')]"
      ],
      "outputs": [],
      "execution_count": 60,
      "metadata": {}
    },
    {
      "cell_type": "code",
      "source": [
        "#get the hits bool\n",
        "hits_regions = pd.read_csv('hits_regions.hg19.bed', sep='\\t', header=None)[0].values\n",
        "\n",
        "hits_bool = []\n",
        "\n",
        "for r in all_regions:\n",
        "    if r in hits_regions:\n",
        "        hits_bool.append(1)\n",
        "    else:\n",
        "        hits_bool.append(0)"
      ],
      "outputs": [],
      "execution_count": 92,
      "metadata": {}
    },
    {
      "cell_type": "code",
      "source": [
        "plot_df = pd.DataFrame(sgrna_coods)\n",
        "plot_df['enh_id'] = enh_id"
      ],
      "outputs": [],
      "execution_count": 4,
      "metadata": {}
    },
    {
      "cell_type": "code",
      "source": [
        "min_vals = np.array([])\n",
        "for i in np.unique(plot_df['enh_id']):\n",
        "    current_df = plot_df[plot_df['enh_id'] == i].iloc[:, 0:2]\n",
        "    nn,ii = current_df.shape\n",
        "    current_min = np.min(np.min(current_df))\n",
        "    \n",
        "    min_vals = np.append(min_vals, np.array([current_min] * nn))"
      ],
      "outputs": [],
      "execution_count": 5,
      "metadata": {}
    },
    {
      "cell_type": "code",
      "source": [
        "plot_df['min_vals'] = min_vals"
      ],
      "outputs": [],
      "execution_count": 6,
      "metadata": {}
    },
    {
      "cell_type": "code",
      "source": [
        "plot_df_sorted = plot_df.sort_values(by=['min_vals', 'enh_id'])"
      ],
      "outputs": [],
      "execution_count": 66,
      "metadata": {}
    },
    {
      "cell_type": "code",
      "source": [
        "sorted_enh_idx = []\n",
        "current_i = plot_df_sorted.enh_id.values[0]\n",
        "sorted_enh_idx.append(int(current_i))\n",
        "\n",
        "for i in plot_df_sorted.enh_id.values:\n",
        "    if i != current_i:\n",
        "        current_i = i\n",
        "        sorted_enh_idx.append(int(current_i))"
      ],
      "outputs": [],
      "execution_count": 75,
      "metadata": {}
    },
    {
      "cell_type": "code",
      "source": [
        "x_coord = 0\n",
        "current_id = plot_df_sorted['enh_id'][0]\n",
        "new_id = np.array([])\n",
        "\n",
        "for i in plot_df_sorted['enh_id']:\n",
        "    if i != current_id:\n",
        "        x_coord +=1\n",
        "        current_id = i\n",
        "    new_id = np.append(new_id, x_coord)"
      ],
      "outputs": [],
      "execution_count": 8,
      "metadata": {}
    },
    {
      "cell_type": "code",
      "source": [
        "plot_df_sorted['new_id'] = new_id"
      ],
      "outputs": [],
      "execution_count": 9,
      "metadata": {}
    },
    {
      "cell_type": "code",
      "source": [
        "mtx_min = np.min(np.min(plot_df_sorted.iloc[:,0:2]))\n",
        "mtx_max = np.max(np.max(plot_df_sorted.iloc[:,0:2]))\n",
        "y_dim = int(np.abs(mtx_min) + np.abs(mtx_max))\n",
        "x_dim = int(np.max(plot_df_sorted['new_id']))"
      ],
      "outputs": [],
      "execution_count": 10,
      "metadata": {}
    },
    {
      "cell_type": "code",
      "source": [
        "dis_mtx = np.zeros((x_dim, y_dim))"
      ],
      "outputs": [],
      "execution_count": 11,
      "metadata": {}
    },
    {
      "cell_type": "code",
      "source": [
        "for i in np.arange(n):\n",
        "    left_coo, right_coo = plot_df_sorted.iloc[i,0:2]\n",
        "    x_coo = int(plot_df_sorted.iloc[i, 4]-1)\n",
        "    \n",
        "    dis_mtx[x_coo, int(left_coo-mtx_min):int(right_coo-mtx_min)] = 1"
      ],
      "outputs": [],
      "execution_count": 12,
      "metadata": {}
    },
    {
      "cell_type": "code",
      "source": [
        "from matplotlib import colors\n",
        "cmap = colors.ListedColormap(['#E9E9E9', '#348ABD'])\n",
        "\n",
        "fig, ax= plt.subplots(figsize=(3,6))\n",
        "\n",
        "ax.pcolor(dis_mtx, cmap=cmap)\n",
        "\n",
        "ax.axvline(x=218,linestyle='-', color='#151515')\n",
        "ax.axvline(x=18, linestyle = '--', color='#A60628')\n",
        "ax.axvline(x=418, linestyle = '--', color='#A60628')\n",
        "\n",
        "ax.set_xticks([18, 218, 418])\n",
        "ax.set_xticklabels(['-200bp', '0', '+200bp'])\n",
        "ax.set_ylabel('Enhancers', fontsize=15)\n",
        "#plt.savefig('sgRNA_pos-summary.pdf')"
      ],
      "outputs": [
        {
          "output_type": "execute_result",
          "execution_count": 13,
          "data": {
            "text/plain": [
              "Text(0, 0.5, 'Enhancers')"
            ]
          },
          "metadata": {}
        },
        {
          "output_type": "display_data",
          "data": {
            "image/png": "[encoded data removed]",
            "text/plain": [
              "<Figure size 216x432 with 1 Axes>"
            ]
          },
          "metadata": {
            "needs_background": "light"
          }
        }
      ],
      "execution_count": 13,
      "metadata": {}
    },
    {
      "cell_type": "code",
      "source": [
        "test = np.array(hits_bool)[sorted_enh_idx]\n",
        "hits_cmap = matplotlib.colors.ListedColormap(['w', 'r'])\n",
        "\n",
        "fig, ax = plt.subplots()\n",
        "hits_id = ax.pcolormesh([test],cmap=hits_cmap)"
      ],
      "outputs": [
        {
          "output_type": "display_data",
          "data": {
            "image/png": "[encoded data removed]",
            "text/plain": [
              "<Figure size 432x288 with 1 Axes>"
            ]
          },
          "metadata": {
            "needs_background": "light"
          }
        }
      ],
      "execution_count": 106,
      "metadata": {}
    }
  ],
  "metadata": {
    "kernelspec": {
      "name": "python3",
      "language": "python",
      "display_name": "Python 3"
    },
    "language_info": {
      "name": "python",
      "version": "3.7.0",
      "mimetype": "text/x-python",
      "codemirror_mode": {
        "name": "ipython",
        "version": 3
      },
      "pygments_lexer": "ipython3",
      "nbconvert_exporter": "python",
      "file_extension": ".py"
    },
    "kernel_info": {
      "name": "python3"
    },
    "nteract": {
      "version": "0.14.0"
    }
  },
  "nbformat": 4,
  "nbformat_minor": 2
}