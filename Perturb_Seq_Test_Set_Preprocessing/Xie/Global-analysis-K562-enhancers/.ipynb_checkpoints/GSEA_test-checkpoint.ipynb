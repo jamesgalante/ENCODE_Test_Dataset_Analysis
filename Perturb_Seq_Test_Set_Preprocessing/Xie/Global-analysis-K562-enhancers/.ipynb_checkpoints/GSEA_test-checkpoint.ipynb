{
 "cells": [
  {
   "cell_type": "code",
   "execution_count": 1,
   "metadata": {},
   "outputs": [],
   "source": [
    "#!/usr/bin/env python3\n",
    "import os\n",
    "import re\n",
    "import sys\n",
    "import collections\n",
    "import argparse\n",
    "import tables\n",
    "import itertools\n",
    "import matplotlib\n",
    "import glob\n",
    "import math\n",
    "%matplotlib inline\n",
    "\n",
    "import matplotlib.pyplot as plt\n",
    "import matplotlib.gridspec as gridspec\n",
    "import numpy as np\n",
    "import gseapy as gp\n",
    "import pandas as pd\n",
    "import scipy.stats as stats\n",
    "import scipy.sparse as sp_sparse\n",
    "\n",
    "from multiprocessing import Pool\n",
    "from collections import defaultdict\n",
    "from scipy import sparse, io\n",
    "from scipy.sparse import csr_matrix\n",
    "from multiprocessing import Pool\n",
    "from matplotlib_venn import venn2, venn2_circles\n",
    "matplotlib.rcParams['pdf.fonttype'] = 42\n",
    "matplotlib.rcParams['ps.fonttype'] = 42"
   ]
  },
  {
   "cell_type": "code",
   "execution_count": 2,
   "metadata": {},
   "outputs": [
    {
     "data": {
      "text/plain": [
       "'0.9.9'"
      ]
     },
     "execution_count": 2,
     "metadata": {},
     "output_type": "execute_result"
    }
   ],
   "source": [
    "gp.__version__"
   ]
  },
  {
   "cell_type": "markdown",
   "metadata": {},
   "source": [
    "### Loading Data"
   ]
  },
  {
   "cell_type": "code",
   "execution_count": 3,
   "metadata": {},
   "outputs": [],
   "source": [
    "#load data, specify the column names\n",
    "columns = [\n",
    "    'NAME','PZ800','PZ801','PZ802','PZ803',\n",
    "    'PZ804','PZ805','PZ806','PZ807','PZ808',\n",
    "    'PZ809','PZ810','PZ811','PZ812','PZ813',\n",
    "    'PZ814','PZ815','PZ816','PZ817','PZ818',\n",
    "    'PZ819','PZ820','PZ821','PZ822','PZ823'\n",
    "]\n",
    "\n",
    "data = pd.read_csv('./FeatureCounts_MYB_raw.txt', sep = '\\t', header = None)\n",
    "data.columns = columns"
   ]
  },
  {
   "cell_type": "code",
   "execution_count": 4,
   "metadata": {},
   "outputs": [],
   "source": [
    "des_col = ['na'] * 56833\n",
    "data.insert(loc=1, column='DESCRIPTION', value=des_col)\n",
    "\n",
    "gene_index = (np.sum(data[data.columns[data.columns.str.startswith('PZ')]], axis=1) > 100).values"
   ]
  },
  {
   "cell_type": "code",
   "execution_count": 5,
   "metadata": {},
   "outputs": [],
   "source": [
    "#matrix normalization\n",
    "data_matrix = data[data.columns[data.columns.str.startswith('PZ')]]\n",
    "sample_sum = np.sum(data_matrix, axis=0).values\n",
    "normalized_mtx = data_matrix.divide(sample_sum) * 1e6"
   ]
  },
  {
   "cell_type": "code",
   "execution_count": 6,
   "metadata": {},
   "outputs": [],
   "source": [
    "data.iloc[:,2:] = normalized_mtx\n",
    "data_filtered = data.iloc[gene_index,:]"
   ]
  },
  {
   "cell_type": "markdown",
   "metadata": {},
   "source": [
    "### Run GSEA"
   ]
  },
  {
   "cell_type": "code",
   "execution_count": 7,
   "metadata": {},
   "outputs": [],
   "source": [
    "gs_res = gp.gsea(data=data_filtered, # or data='./P53_resampling_data.txt'\n",
    "                 gene_sets='./Genesets/HALLMARK_HEME_METABOLISM_geneset.gmt', # enrichr library names\n",
    "                 cls= './Phenotype_MYB.cls', # cls=class_vector\n",
    "                 #set permutation_type to phenotype if samples >=15\n",
    "                 permutation_type='phenotype',\n",
    "                 permutation_num=1000, # reduce number to speed up test\n",
    "                 outdir=None,  # do not write output to disk\n",
    "                 no_plot=True, # Skip plotting\n",
    "                 method='signal_to_noise',\n",
    "                 processes=4,\n",
    "                 format='pdf')"
   ]
  },
  {
   "cell_type": "code",
   "execution_count": 8,
   "metadata": {},
   "outputs": [],
   "source": [
    "from gseapy.plot import gseaplot, heatmap\n",
    "terms = gs_res.res2d.index\n",
    "fig = gseaplot(\n",
    "    gs_res.ranking, \n",
    "    term=terms[0], \n",
    "    **gs_res.results[terms[0]],\n",
    "    ofname='./HEME_META-GSEA.pdf'\n",
    ")"
   ]
  },
  {
   "cell_type": "code",
   "execution_count": 9,
   "metadata": {},
   "outputs": [],
   "source": [
    "# plotting heatmap\n",
    "genes = gs_res.res2d.genes[0].split(\";\")\n",
    "heatmap(\n",
    "    df = gs_res.heatmat.loc[genes], \n",
    "    z_score=0, \n",
    "    title=terms[0], \n",
    "    figsize=(8,20), \n",
    "    ofname='HEME_META-heatmap.pdf'\n",
    ")"
   ]
  },
  {
   "cell_type": "code",
   "execution_count": 10,
   "metadata": {},
   "outputs": [
    {
     "data": {
      "text/html": [
       "<div>\n",
       "<style scoped>\n",
       "    .dataframe tbody tr th:only-of-type {\n",
       "        vertical-align: middle;\n",
       "    }\n",
       "\n",
       "    .dataframe tbody tr th {\n",
       "        vertical-align: top;\n",
       "    }\n",
       "\n",
       "    .dataframe thead th {\n",
       "        text-align: right;\n",
       "    }\n",
       "</style>\n",
       "<table border=\"1\" class=\"dataframe\">\n",
       "  <thead>\n",
       "    <tr style=\"text-align: right;\">\n",
       "      <th></th>\n",
       "      <th>es</th>\n",
       "      <th>nes</th>\n",
       "      <th>pval</th>\n",
       "      <th>fdr</th>\n",
       "      <th>geneset_size</th>\n",
       "      <th>matched_size</th>\n",
       "      <th>genes</th>\n",
       "      <th>ledge_genes</th>\n",
       "    </tr>\n",
       "    <tr>\n",
       "      <th>Term</th>\n",
       "      <th></th>\n",
       "      <th></th>\n",
       "      <th></th>\n",
       "      <th></th>\n",
       "      <th></th>\n",
       "      <th></th>\n",
       "      <th></th>\n",
       "      <th></th>\n",
       "    </tr>\n",
       "  </thead>\n",
       "  <tbody>\n",
       "    <tr>\n",
       "      <th>HALLMARK_HEME_METABOLISM</th>\n",
       "      <td>0.77422</td>\n",
       "      <td>1.935062</td>\n",
       "      <td>0.0</td>\n",
       "      <td>0.0</td>\n",
       "      <td>200</td>\n",
       "      <td>188</td>\n",
       "      <td>CCND3;OSBP2;GYPB;SLC2A1;ABCB6;ALAS2;GYPC;GYPA;...</td>\n",
       "      <td>CCND3;OSBP2;GYPB;SLC2A1;ABCB6;ALAS2;GYPC;GYPA;...</td>\n",
       "    </tr>\n",
       "  </tbody>\n",
       "</table>\n",
       "</div>"
      ],
      "text/plain": [
       "                               es       nes  pval  fdr  geneset_size  \\\n",
       "Term                                                                   \n",
       "HALLMARK_HEME_METABOLISM  0.77422  1.935062   0.0  0.0           200   \n",
       "\n",
       "                          matched_size  \\\n",
       "Term                                     \n",
       "HALLMARK_HEME_METABOLISM           188   \n",
       "\n",
       "                                                                      genes  \\\n",
       "Term                                                                          \n",
       "HALLMARK_HEME_METABOLISM  CCND3;OSBP2;GYPB;SLC2A1;ABCB6;ALAS2;GYPC;GYPA;...   \n",
       "\n",
       "                                                                ledge_genes  \n",
       "Term                                                                         \n",
       "HALLMARK_HEME_METABOLISM  CCND3;OSBP2;GYPB;SLC2A1;ABCB6;ALAS2;GYPC;GYPA;...  "
      ]
     },
     "execution_count": 10,
     "metadata": {},
     "output_type": "execute_result"
    }
   ],
   "source": [
    "gs_res.res2d"
   ]
  }
 ],
 "metadata": {
  "kernelspec": {
   "display_name": "Python 3",
   "language": "python",
   "name": "python3"
  },
  "language_info": {
   "codemirror_mode": {
    "name": "ipython",
    "version": 3
   },
   "file_extension": ".py",
   "mimetype": "text/x-python",
   "name": "python",
   "nbconvert_exporter": "python",
   "pygments_lexer": "ipython3",
   "version": "3.6.7"
  }
 },
 "nbformat": 4,
 "nbformat_minor": 2
}
