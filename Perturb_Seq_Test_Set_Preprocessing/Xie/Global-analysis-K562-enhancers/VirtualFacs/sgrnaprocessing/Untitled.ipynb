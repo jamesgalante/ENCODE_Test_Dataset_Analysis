{
 "cells": [
  {
   "cell_type": "code",
   "execution_count": 21,
   "id": "615a0823",
   "metadata": {},
   "outputs": [
    {
     "name": "stdout",
     "output_type": "stream",
     "text": [
      "Defaulting to user installation because normal site-packages is not writeable\n",
      "Requirement already satisfied: tables in /home/users/jgalante/.local/lib/python3.9/site-packages (3.9.2)\n",
      "Requirement already satisfied: numpy>=1.19.0 in /home/users/jgalante/.local/lib/python3.9/site-packages (from tables) (1.25.2)\n",
      "Requirement already satisfied: numexpr>=2.6.2 in /home/users/jgalante/.local/lib/python3.9/site-packages (from tables) (2.8.8)\n",
      "Requirement already satisfied: packaging in /share/software/user/open/py-jupyter/1.0.0_py39/lib/python3.9/site-packages (from tables) (21.0)\n",
      "Requirement already satisfied: py-cpuinfo in /home/users/jgalante/.local/lib/python3.9/site-packages (from tables) (9.0.0)\n",
      "Requirement already satisfied: blosc2>=2.3.0 in /home/users/jgalante/.local/lib/python3.9/site-packages (from tables) (2.3.2)\n",
      "Requirement already satisfied: ndindex>=1.4 in /home/users/jgalante/.local/lib/python3.9/site-packages (from blosc2>=2.3.0->tables) (1.7)\n",
      "Requirement already satisfied: msgpack in /home/users/jgalante/.local/lib/python3.9/site-packages (from blosc2>=2.3.0->tables) (1.0.7)\n",
      "Requirement already satisfied: pyparsing>=2.0.2 in /share/software/user/open/py-jupyter/1.0.0_py39/lib/python3.9/site-packages (from packaging->tables) (2.4.7)\n",
      "\n",
      "\u001b[1m[\u001b[0m\u001b[34;49mnotice\u001b[0m\u001b[1;39;49m]\u001b[0m\u001b[39;49m A new release of pip is available: \u001b[0m\u001b[31;49m23.3.1\u001b[0m\u001b[39;49m -> \u001b[0m\u001b[32;49m23.3.2\u001b[0m\n",
      "\u001b[1m[\u001b[0m\u001b[34;49mnotice\u001b[0m\u001b[1;39;49m]\u001b[0m\u001b[39;49m To update, run: \u001b[0m\u001b[32;49mpip install --upgrade pip\u001b[0m\n"
     ]
    }
   ],
   "source": [
    "!pip install tables\n",
    "from correct_sgrna import _load_data, _filter_umi\n",
    "import glob\n",
    "import os"
   ]
  },
  {
   "cell_type": "code",
   "execution_count": 14,
   "id": "8e176ddb",
   "metadata": {},
   "outputs": [
    {
     "name": "stdout",
     "output_type": "stream",
     "text": [
      "/oak/stanford/groups/larsms/Users/jgalante/External_Encode_E2G_Val/Xie/GSE129826/GSM3722739_sgRNA-enrichment_5K-sgRNAs_Batch_1_1_sgRNA_UMI.txt\n",
      "/oak/stanford/groups/larsms/Users/jgalante/External_Encode_E2G_Val/Xie/GSE129826/GSM3722740_sgRNA-enrichment_5K-sgRNAs_Batch_1_2_sgRNA_UMI.txt\n",
      "/oak/stanford/groups/larsms/Users/jgalante/External_Encode_E2G_Val/Xie/GSE129826/GSM3722741_sgRNA-enrichment_5K-sgRNAs_Batch_2_1_sgRNA_UMI.txt\n",
      "/oak/stanford/groups/larsms/Users/jgalante/External_Encode_E2G_Val/Xie/GSE129826/GSM3722742_sgRNA-enrichment_5K-sgRNAs_Batch_2_2_sgRNA_UMI.txt\n",
      "/oak/stanford/groups/larsms/Users/jgalante/External_Encode_E2G_Val/Xie/GSE129826/GSM3722743_sgRNA-enrichment_5K-sgRNAs_Batch_3_1_sgRNA_UMI.txt\n",
      "/oak/stanford/groups/larsms/Users/jgalante/External_Encode_E2G_Val/Xie/GSE129826/GSM3722744_sgRNA-enrichment_5K-sgRNAs_Batch_3_2_sgRNA_UMI.txt\n",
      "/oak/stanford/groups/larsms/Users/jgalante/External_Encode_E2G_Val/Xie/GSE129826/GSM3722737_sgRNA-enrichment_5K-sgRNAs_Batch_4_1_sgRNA_UMI.txt\n",
      "/oak/stanford/groups/larsms/Users/jgalante/External_Encode_E2G_Val/Xie/GSE129826/GSM3722738_sgRNA-enrichment_5K-sgRNAs_Batch_4_2_sgRNA_UMI.txt\n",
      "/oak/stanford/groups/larsms/Users/jgalante/External_Encode_E2G_Val/Xie/GSE129826/GSM3722745_sgRNA-enrichment_5K-sgRNAs_Batch_5_1_sgRNA_UMI.txt\n",
      "/oak/stanford/groups/larsms/Users/jgalante/External_Encode_E2G_Val/Xie/GSE129826/GSM3722746_sgRNA-enrichment_5K-sgRNAs_Batch_5_2_sgRNA_UMI.txt\n"
     ]
    }
   ],
   "source": [
    "def extract_batch_numbers(filename):\n",
    "    \"\"\"\n",
    "    Extract the key for sorting from the filename.\n",
    "    Takes the three characters after 'Batch'.\n",
    "    \"\"\"\n",
    "    # Find the index of 'Batch'\n",
    "    start = filename.find('Batch') + len('Batch')\n",
    "    # Extract the next three characters\n",
    "    return filename[start+1:start+4]\n",
    "\n",
    "txt_files = sorted(glob.glob('/oak/stanford/groups/larsms/Users/jgalante/External_Encode_E2G_Val/Xie/GSE129826/*.txt'), key=extract_batch_numbers)\n",
    "\n",
    "for i in txt_files:\n",
    "    print(i)"
   ]
  },
  {
   "cell_type": "code",
   "execution_count": 22,
   "id": "98a9a274",
   "metadata": {},
   "outputs": [
    {
     "name": "stdout",
     "output_type": "stream",
     "text": [
      "processing 0\n",
      "2.803245964242319\n",
      "DataFrame saved to /oak/stanford/groups/larsms/Users/jgalante/External_Encode_E2G_Val/Xie/Data/filtered_UMIs/GSM3722739_sgRNA-enrichment_5K-sgRNAs_Batch_1_1_sgRNA_UMI.txt\n",
      "processing 1\n",
      "2.7918272937548188\n",
      "DataFrame saved to /oak/stanford/groups/larsms/Users/jgalante/External_Encode_E2G_Val/Xie/Data/filtered_UMIs/GSM3722740_sgRNA-enrichment_5K-sgRNAs_Batch_1_2_sgRNA_UMI.txt\n",
      "processing 2\n",
      "4.890900692840646\n",
      "DataFrame saved to /oak/stanford/groups/larsms/Users/jgalante/External_Encode_E2G_Val/Xie/Data/filtered_UMIs/GSM3722741_sgRNA-enrichment_5K-sgRNAs_Batch_2_1_sgRNA_UMI.txt\n",
      "processing 3\n",
      "5.2412647008692685\n",
      "DataFrame saved to /oak/stanford/groups/larsms/Users/jgalante/External_Encode_E2G_Val/Xie/Data/filtered_UMIs/GSM3722742_sgRNA-enrichment_5K-sgRNAs_Batch_2_2_sgRNA_UMI.txt\n",
      "processing 4\n",
      "5.060569141066922\n",
      "DataFrame saved to /oak/stanford/groups/larsms/Users/jgalante/External_Encode_E2G_Val/Xie/Data/filtered_UMIs/GSM3722743_sgRNA-enrichment_5K-sgRNAs_Batch_3_1_sgRNA_UMI.txt\n",
      "processing 5\n",
      "5.044280105907057\n",
      "DataFrame saved to /oak/stanford/groups/larsms/Users/jgalante/External_Encode_E2G_Val/Xie/Data/filtered_UMIs/GSM3722744_sgRNA-enrichment_5K-sgRNAs_Batch_3_2_sgRNA_UMI.txt\n",
      "processing 6\n",
      "9.889909411172622\n",
      "DataFrame saved to /oak/stanford/groups/larsms/Users/jgalante/External_Encode_E2G_Val/Xie/Data/filtered_UMIs/GSM3722737_sgRNA-enrichment_5K-sgRNAs_Batch_4_1_sgRNA_UMI.txt\n",
      "processing 7\n",
      "10.394677781340173\n",
      "DataFrame saved to /oak/stanford/groups/larsms/Users/jgalante/External_Encode_E2G_Val/Xie/Data/filtered_UMIs/GSM3722738_sgRNA-enrichment_5K-sgRNAs_Batch_4_2_sgRNA_UMI.txt\n",
      "processing 8\n",
      "10.561249313348505\n",
      "DataFrame saved to /oak/stanford/groups/larsms/Users/jgalante/External_Encode_E2G_Val/Xie/Data/filtered_UMIs/GSM3722745_sgRNA-enrichment_5K-sgRNAs_Batch_5_1_sgRNA_UMI.txt\n",
      "processing 9\n",
      "10.249533437013996\n",
      "DataFrame saved to /oak/stanford/groups/larsms/Users/jgalante/External_Encode_E2G_Val/Xie/Data/filtered_UMIs/GSM3722746_sgRNA-enrichment_5K-sgRNAs_Batch_5_2_sgRNA_UMI.txt\n"
     ]
    }
   ],
   "source": [
    "# Define the new directory for saving the filtered DataFrames\n",
    "new_dir = \"/oak/stanford/groups/larsms/Users/jgalante/External_Encode_E2G_Val/Xie/Data/filtered_UMIs\"\n",
    "os.makedirs(new_dir, exist_ok=True)  # Create the directory if it doesn't exist\n",
    "\n",
    "for idx, file_path in enumerate(txt_files):\n",
    "    print(f\"processing {idx}\")\n",
    "    \n",
    "    # Run the filtering functions\n",
    "    df = _load_data(file_path)\n",
    "    df = _filter_umi(df)\n",
    "    \n",
    "    # Filter for counts above 1\n",
    "    df_non_zero_count = (df >= 1).astype(int)\n",
    "    \n",
    "    # Calculate the sum of each column\n",
    "    column_sums = df_non_zero_count.sum(axis=0)\n",
    "    \n",
    "    # Calculate the average of these column sums and print the average\n",
    "    average_column_sum = column_sums.mean()\n",
    "    print(average_column_sum)\n",
    "\n",
    "    # Save the DataFrame to the new directory\n",
    "    filename = os.path.basename(file_path)\n",
    "    save_path = os.path.join(new_dir, filename)\n",
    "    df.to_csv(save_path)\n",
    "    print(f\"DataFrame saved to {save_path}\")"
   ]
  },
  {
   "cell_type": "code",
   "execution_count": 25,
   "id": "c4fb2689",
   "metadata": {},
   "outputs": [
    {
     "name": "stdout",
     "output_type": "stream",
     "text": [
      "/oak/stanford/groups/larsms/Users/jgalante/External_Encode_E2G_Val/Xie/GSE129826/GSM3722729_K562-dCas9-KRAB_5K-sgRNAs_Batch-1_1_filtered_gene_bc_matrices_h5.h5\n",
      "/oak/stanford/groups/larsms/Users/jgalante/External_Encode_E2G_Val/Xie/GSE129826/GSM3722730_K562-dCas9-KRAB_5K-sgRNAs_Batch-1_2_filtered_gene_bc_matrices_h5.h5\n",
      "/oak/stanford/groups/larsms/Users/jgalante/External_Encode_E2G_Val/Xie/GSE129826/GSM3722731_K562-dCas9-KRAB_5K-sgRNAs_Batch-2_1_filtered_gene_bc_matrices_h5.h5\n",
      "/oak/stanford/groups/larsms/Users/jgalante/External_Encode_E2G_Val/Xie/GSE129826/GSM3722732_K562-dCas9-KRAB_5K-sgRNAs_Batch-2_2_filtered_gene_bc_matrices_h5.h5\n",
      "/oak/stanford/groups/larsms/Users/jgalante/External_Encode_E2G_Val/Xie/GSE129826/GSM3722733_K562-dCas9-KRAB_5K-sgRNAs_Batch-3_1_filtered_gene_bc_matrices_h5.h5\n",
      "/oak/stanford/groups/larsms/Users/jgalante/External_Encode_E2G_Val/Xie/GSE129826/GSM3722734_K562-dCas9-KRAB_5K-sgRNAs_Batch-3_2_filtered_gene_bc_matrices_h5.h5\n",
      "/oak/stanford/groups/larsms/Users/jgalante/External_Encode_E2G_Val/Xie/GSE129826/GSM3722727_K562-dCas9-KRAB_5K-sgRNAs_Batch-4_1_filtered_gene_bc_matrices_h5.h5\n",
      "/oak/stanford/groups/larsms/Users/jgalante/External_Encode_E2G_Val/Xie/GSE129826/GSM3722728_K562-dCas9-KRAB_5K-sgRNAs_Batch-4_2_filtered_gene_bc_matrices_h5.h5\n",
      "/oak/stanford/groups/larsms/Users/jgalante/External_Encode_E2G_Val/Xie/GSE129826/GSM3722735_K562-dCas9-KRAB_5K-sgRNAs_Batch-5_1_filtered_gene_bc_matrices_h5.h5\n",
      "/oak/stanford/groups/larsms/Users/jgalante/External_Encode_E2G_Val/Xie/GSE129826/GSM3722736_K562-dCas9-KRAB_5K-sgRNAs_Batch-5_2_filtered_gene_bc_matrices_h5.h5\n"
     ]
    }
   ],
   "source": [
    "h5_files = sorted(glob.glob('/oak/stanford/groups/larsms/Users/jgalante/External_Encode_E2G_Val/Xie/GSE129826/*.h5'), key=extract_batch_numbers)\n",
    "\n",
    "for i in h5_files:\n",
    "    print(i)"
   ]
  },
  {
   "cell_type": "code",
   "execution_count": null,
   "id": "33169951",
   "metadata": {},
   "outputs": [],
   "source": []
  }
 ],
 "metadata": {
  "kernelspec": {
   "display_name": "Python 3 (ipykernel)",
   "language": "python",
   "name": "python3"
  },
  "language_info": {
   "codemirror_mode": {
    "name": "ipython",
    "version": 3
   },
   "file_extension": ".py",
   "mimetype": "text/x-python",
   "name": "python",
   "nbconvert_exporter": "python",
   "pygments_lexer": "ipython3",
   "version": "3.9.0"
  }
 },
 "nbformat": 4,
 "nbformat_minor": 5
}
